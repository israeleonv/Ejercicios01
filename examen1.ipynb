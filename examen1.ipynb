{
 "cells": [
  {
   "cell_type": "code",
   "execution_count": 23,
   "metadata": {},
   "outputs": [],
   "source": [
    "import math as mh\n",
    "import numpy as np"
   ]
  },
  {
   "cell_type": "code",
   "execution_count": 24,
   "metadata": {},
   "outputs": [
    {
     "name": "stdout",
     "output_type": "stream",
     "text": [
      "0.0012644892673496777\n",
      "0.0004024994347707008\n"
     ]
    }
   ],
   "source": [
    "#Pregunta 8\n",
    "#cálculo del error relativo y absoluto \n",
    "\n",
    "#inciso a\n",
    "Ea = np.fabs(np.pi - 22/7)\n",
    "print(Ea)\n",
    "Er = Ea / np.fabs(np.pi)\n",
    "print(Er)"
   ]
  },
  {
   "cell_type": "code",
   "execution_count": 25,
   "metadata": {},
   "outputs": [
    {
     "name": "stdout",
     "output_type": "stream",
     "text": [
      "26.465794806703343\n",
      "0.0012015452253326688\n"
     ]
    }
   ],
   "source": [
    "#inciso b\n",
    "Ea = np.fabs(np.e**10 - 22000)\n",
    "print(Ea)\n",
    "Er = Ea / np.fabs(np.e**10)\n",
    "print(Er)"
   ]
  },
  {
   "cell_type": "code",
   "execution_count": 28,
   "metadata": {},
   "outputs": [
    {
     "name": "stdout",
     "output_type": "stream",
     "text": [
      "14.544268632989315\n",
      "0.010497822704619136\n"
     ]
    }
   ],
   "source": [
    "#inciso c\n",
    "Ea = np.fabs(10**np.pi - 1400)\n",
    "print(Ea)\n",
    "Er = Ea / np.fabs(10**np.pi)\n",
    "print(Er)"
   ]
  },
  {
   "cell_type": "code",
   "execution_count": 34,
   "metadata": {},
   "outputs": [
    {
     "name": "stdout",
     "output_type": "stream",
     "text": [
      "3343.1271580516477\n",
      "0.009212762230080598\n"
     ]
    }
   ],
   "source": [
    "#inciso d\n",
    "Ea = np.fabs(mh.factorial(9) - ((mh.sqrt(18*np.pi))*(9/np.e)**9))\n",
    "print(Ea)\n",
    "Er = Ea / mh.factorial(9)\n",
    "print(Er)"
   ]
  }
 ],
 "metadata": {
  "kernelspec": {
   "display_name": "Python 3",
   "language": "python",
   "name": "python3"
  },
  "language_info": {
   "codemirror_mode": {
    "name": "ipython",
    "version": 3
   },
   "file_extension": ".py",
   "mimetype": "text/x-python",
   "name": "python",
   "nbconvert_exporter": "python",
   "pygments_lexer": "ipython3",
   "version": "3.8.3"
  }
 },
 "nbformat": 4,
 "nbformat_minor": 4
}
